{
 "cells": [
  {
   "cell_type": "code",
   "execution_count": 8,
   "metadata": {},
   "outputs": [],
   "source": [
    "from selenium import webdriver\n",
    "import pandas as pd"
   ]
  },
  {
   "cell_type": "code",
   "execution_count": 9,
   "metadata": {},
   "outputs": [],
   "source": [
    "driver = webdriver.Chrome()"
   ]
  },
  {
   "cell_type": "code",
   "execution_count": 10,
   "metadata": {},
   "outputs": [],
   "source": [
    "base_url = 'https://www.olx.com.eg/en/properties/apartments-duplex-for-sale'\n",
    "driver.get(base_url)"
   ]
  },
  {
   "cell_type": "code",
   "execution_count": 11,
   "metadata": {},
   "outputs": [
    {
     "data": {
      "text/plain": [
       "500"
      ]
     },
     "execution_count": 11,
     "metadata": {},
     "output_type": "execute_result"
    }
   ],
   "source": [
    "last_page = driver.find_elements_by_css_selector('div.pager span[class=\"item fleft\"]')\n",
    "last_page_number = int(last_page[-1].find_elements_by_css_selector('a span')[0].text)\n",
    "last_page_number"
   ]
  },
  {
   "cell_type": "code",
   "execution_count": 12,
   "metadata": {},
   "outputs": [],
   "source": [
    "ads_link = []\n",
    "def get_ads_link(links_list,driver):\n",
    "    ads = driver.find_elements_by_css_selector('div.ads--list div.ads__item div.ads__item__info')\n",
    "    for ad in ads:\n",
    "        link = ad.find_elements_by_css_selector('a')[0].get_attribute('href')\n",
    "        links_list.append(link[:23]+'en/'+link[23:])"
   ]
  },
  {
   "cell_type": "code",
   "execution_count": 13,
   "metadata": {},
   "outputs": [],
   "source": [
    "for page in range(1,last_page_number+1):\n",
    "    driver.get(f\"{base_url}/?page={str(page)}\")\n",
    "    get_ads_link(ads_link,driver)"
   ]
  },
  {
   "cell_type": "code",
   "execution_count": 14,
   "metadata": {},
   "outputs": [],
   "source": [
    "def get_ad_info(driver):\n",
    "    df = pd.DataFrame()\n",
    "    aspects = {}\n",
    "    \n",
    "    \n",
    "    apartment_features = driver.find_elements_by_css_selector('div.descriptioncontent table.details tbody tr td table tbody tr')\n",
    "    for features in apartment_features:\n",
    "        feature = features.find_elements_by_css_selector('th')[0].text\n",
    "        value = features.find_elements_by_css_selector('td')[0].text\n",
    "        aspects[feature] = value\n",
    "    \n",
    "    if len(driver.find_elements_by_css_selector('div.offerbox div.pricelabel')) > 0:\n",
    "        price = driver.find_elements_by_css_selector('div.offerbox div.pricelabel')[0].text.split()[0].replace(',','')\n",
    "        aspects['Price'] = price\n",
    "    \n",
    "\n",
    "    if len(driver.find_elements_by_css_selector('a#showMap span[class=\"block clr\"] span[class=\"block address fleft marginleft15\"] span')) > 0:\n",
    "        location = driver.find_elements_by_css_selector('a#showMap span[class=\"block clr\"] span[class=\"block address fleft marginleft15\"] span')[0].text\n",
    "        aspects['Location'] = location\n",
    "    \n",
    "    df = df.append(aspects,ignore_index = True)\n",
    "    return df"
   ]
  },
  {
   "cell_type": "code",
   "execution_count": 15,
   "metadata": {},
   "outputs": [],
   "source": [
    "data = pd.DataFrame()\n",
    "for link in ads_link:\n",
    "    driver.get(link)\n",
    "    data = data.append(get_ad_info(driver),ignore_index = True)"
   ]
  },
  {
   "cell_type": "code",
   "execution_count": 16,
   "metadata": {},
   "outputs": [
    {
     "data": {
      "text/html": [
       "<div>\n",
       "<style scoped>\n",
       "    .dataframe tbody tr th:only-of-type {\n",
       "        vertical-align: middle;\n",
       "    }\n",
       "\n",
       "    .dataframe tbody tr th {\n",
       "        vertical-align: top;\n",
       "    }\n",
       "\n",
       "    .dataframe thead th {\n",
       "        text-align: right;\n",
       "    }\n",
       "</style>\n",
       "<table border=\"1\" class=\"dataframe\">\n",
       "  <thead>\n",
       "    <tr style=\"text-align: right;\">\n",
       "      <th></th>\n",
       "      <th>Amenities</th>\n",
       "      <th>Area (m²)</th>\n",
       "      <th>Bathrooms</th>\n",
       "      <th>Bedrooms</th>\n",
       "      <th>Furnished</th>\n",
       "      <th>Level</th>\n",
       "      <th>Location</th>\n",
       "      <th>Payment Option</th>\n",
       "      <th>Price</th>\n",
       "      <th>Type</th>\n",
       "      <th>Down Payment</th>\n",
       "      <th>Compound</th>\n",
       "    </tr>\n",
       "  </thead>\n",
       "  <tbody>\n",
       "    <tr>\n",
       "      <th>0</th>\n",
       "      <td>Balcony\\nCovered Parking\\nPets Allowed\\nSecuri...</td>\n",
       "      <td>135</td>\n",
       "      <td>2</td>\n",
       "      <td>3</td>\n",
       "      <td>No</td>\n",
       "      <td>2</td>\n",
       "      <td>Sadat، Monufia</td>\n",
       "      <td>Cash or Installment</td>\n",
       "      <td>513000</td>\n",
       "      <td>Apartment</td>\n",
       "      <td>NaN</td>\n",
       "      <td>NaN</td>\n",
       "    </tr>\n",
       "    <tr>\n",
       "      <th>1</th>\n",
       "      <td>Balcony\\nCovered Parking\\nSecurity\\nPool\\nElec...</td>\n",
       "      <td>97</td>\n",
       "      <td>2</td>\n",
       "      <td>1</td>\n",
       "      <td>NaN</td>\n",
       "      <td>2</td>\n",
       "      <td>Sheikh Zayed، Giza</td>\n",
       "      <td>Installment</td>\n",
       "      <td>1950000</td>\n",
       "      <td>Apartment</td>\n",
       "      <td>1,265,000</td>\n",
       "      <td>NaN</td>\n",
       "    </tr>\n",
       "    <tr>\n",
       "      <th>2</th>\n",
       "      <td>Balcony\\nBuilt in Kitchen Appliances\\nCentral ...</td>\n",
       "      <td>175</td>\n",
       "      <td>3</td>\n",
       "      <td>4</td>\n",
       "      <td>NaN</td>\n",
       "      <td>Ground</td>\n",
       "      <td>Shorouk City، Cairo</td>\n",
       "      <td>NaN</td>\n",
       "      <td>3500000</td>\n",
       "      <td>Duplex</td>\n",
       "      <td>175</td>\n",
       "      <td>NaN</td>\n",
       "    </tr>\n",
       "    <tr>\n",
       "      <th>3</th>\n",
       "      <td>Balcony\\nBuilt in Kitchen Appliances\\nCentral ...</td>\n",
       "      <td>85</td>\n",
       "      <td>2</td>\n",
       "      <td>2</td>\n",
       "      <td>NaN</td>\n",
       "      <td>9</td>\n",
       "      <td>New Capital City، Cairo</td>\n",
       "      <td>Cash or Installment</td>\n",
       "      <td>1850000</td>\n",
       "      <td>Duplex</td>\n",
       "      <td>185,000</td>\n",
       "      <td>NaN</td>\n",
       "    </tr>\n",
       "    <tr>\n",
       "      <th>4</th>\n",
       "      <td></td>\n",
       "      <td>300</td>\n",
       "      <td>3</td>\n",
       "      <td>3</td>\n",
       "      <td>No</td>\n",
       "      <td>3</td>\n",
       "      <td>Shorouk City، Cairo</td>\n",
       "      <td>Cash or Installment</td>\n",
       "      <td>2500000</td>\n",
       "      <td>Penthouse</td>\n",
       "      <td>NaN</td>\n",
       "      <td>Granda</td>\n",
       "    </tr>\n",
       "  </tbody>\n",
       "</table>\n",
       "</div>"
      ],
      "text/plain": [
       "                                           Amenities Area (m²) Bathrooms  \\\n",
       "0  Balcony\\nCovered Parking\\nPets Allowed\\nSecuri...       135         2   \n",
       "1  Balcony\\nCovered Parking\\nSecurity\\nPool\\nElec...        97         2   \n",
       "2  Balcony\\nBuilt in Kitchen Appliances\\nCentral ...       175         3   \n",
       "3  Balcony\\nBuilt in Kitchen Appliances\\nCentral ...        85         2   \n",
       "4                                                          300         3   \n",
       "\n",
       "  Bedrooms Furnished   Level                 Location       Payment Option  \\\n",
       "0        3        No       2           Sadat، Monufia  Cash or Installment   \n",
       "1        1       NaN       2       Sheikh Zayed، Giza          Installment   \n",
       "2        4       NaN  Ground      Shorouk City، Cairo                  NaN   \n",
       "3        2       NaN       9  New Capital City، Cairo  Cash or Installment   \n",
       "4        3        No       3      Shorouk City، Cairo  Cash or Installment   \n",
       "\n",
       "     Price       Type Down Payment Compound  \n",
       "0   513000  Apartment          NaN      NaN  \n",
       "1  1950000  Apartment    1,265,000      NaN  \n",
       "2  3500000     Duplex          175      NaN  \n",
       "3  1850000     Duplex      185,000      NaN  \n",
       "4  2500000  Penthouse          NaN   Granda  "
      ]
     },
     "execution_count": 16,
     "metadata": {},
     "output_type": "execute_result"
    }
   ],
   "source": [
    "data.head()"
   ]
  },
  {
   "cell_type": "code",
   "execution_count": 17,
   "metadata": {},
   "outputs": [
    {
     "data": {
      "text/plain": [
       "(22498, 12)"
      ]
     },
     "execution_count": 17,
     "metadata": {},
     "output_type": "execute_result"
    }
   ],
   "source": [
    "data.shape"
   ]
  },
  {
   "cell_type": "code",
   "execution_count": 18,
   "metadata": {},
   "outputs": [],
   "source": [
    "driver.quit()"
   ]
  },
  {
   "cell_type": "code",
   "execution_count": 19,
   "metadata": {},
   "outputs": [],
   "source": [
    "data.to_csv('apratments_data.csv')"
   ]
  },
  {
   "cell_type": "code",
   "execution_count": null,
   "metadata": {},
   "outputs": [],
   "source": []
  }
 ],
 "metadata": {
  "kernelspec": {
   "display_name": "Python 3",
   "language": "python",
   "name": "python3"
  },
  "language_info": {
   "codemirror_mode": {
    "name": "ipython",
    "version": 3
   },
   "file_extension": ".py",
   "mimetype": "text/x-python",
   "name": "python",
   "nbconvert_exporter": "python",
   "pygments_lexer": "ipython3",
   "version": "3.8.5"
  }
 },
 "nbformat": 4,
 "nbformat_minor": 4
}
